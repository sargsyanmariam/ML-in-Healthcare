{
 "cells": [
  {
   "cell_type": "markdown",
   "metadata": {},
   "source": [
    "## Survival Analysis"
   ]
  },
  {
   "cell_type": "code",
   "execution_count": 2,
   "metadata": {},
   "outputs": [
    {
     "name": "stdout",
     "output_type": "stream",
     "text": [
      "Populating the interactive namespace from numpy and matplotlib\n"
     ]
    }
   ],
   "source": [
    "import pandas as pd\n",
    "import numpy as np\n",
    "import matplotlib.pyplot as plt\n",
    "import seaborn as sb\n",
    "\n",
    "from lifelines.plotting import plot_lifetimes      # Lifeline package for the Survival Analysis\n",
    "%pylab inline\n",
    "figsize(12,6)"
   ]
  },
  {
   "cell_type": "code",
   "execution_count": 97,
   "metadata": {},
   "outputs": [],
   "source": [
    "df = pd.read_csv('romans 2 (1).csv')"
   ]
  },
  {
   "cell_type": "code",
   "execution_count": 98,
   "metadata": {},
   "outputs": [
    {
     "data": {
      "text/html": [
       "<div>\n",
       "<style scoped>\n",
       "    .dataframe tbody tr th:only-of-type {\n",
       "        vertical-align: middle;\n",
       "    }\n",
       "\n",
       "    .dataframe tbody tr th {\n",
       "        vertical-align: top;\n",
       "    }\n",
       "\n",
       "    .dataframe thead th {\n",
       "        text-align: right;\n",
       "    }\n",
       "</style>\n",
       "<table border=\"1\" class=\"dataframe\">\n",
       "  <thead>\n",
       "    <tr style=\"text-align: right;\">\n",
       "      <th></th>\n",
       "      <th>Name</th>\n",
       "      <th>Birth</th>\n",
       "      <th>Succession</th>\n",
       "      <th>Reign</th>\n",
       "      <th>Time</th>\n",
       "      <th>Deaths</th>\n",
       "    </tr>\n",
       "  </thead>\n",
       "  <tbody>\n",
       "    <tr>\n",
       "      <td>0</td>\n",
       "      <td>Augustus IMPERATOR CAESAR DIVI FILIVS  AVGVST...</td>\n",
       "      <td>23 September 63 BC,  Rome ,  Italia \\n</td>\n",
       "      <td>Great-nephew and adopted son of  Julius Caesa...</td>\n",
       "      <td>16 January 27 BC – 19 August 14 AD\\n</td>\n",
       "      <td>40 years, 7 months and 3 days\\n</td>\n",
       "      <td>19 August 14 AD (aged 75) Natural causes \\n</td>\n",
       "    </tr>\n",
       "    <tr>\n",
       "      <td>1</td>\n",
       "      <td>Tiberius TIBERIVS  CAESAR DIVI AVGVSTI FILIVS...</td>\n",
       "      <td>16 November 42 BC,  Rome ,  Italia \\n</td>\n",
       "      <td>Natural son of  Livia Drusilla , Augustus' th...</td>\n",
       "      <td>18 September 14 AD – 16 March 37 AD\\n</td>\n",
       "      <td>22 years, 5 months and 27 days\\n</td>\n",
       "      <td>16 March 37 AD (aged 77) Probably natural cau...</td>\n",
       "    </tr>\n",
       "    <tr>\n",
       "      <td>2</td>\n",
       "      <td>Caligula GAIVS IVLIVS CAESAR AVGVSTVS GERMANI...</td>\n",
       "      <td>31 August 12 AD,  Antium ,  Italia \\n</td>\n",
       "      <td>Great-nephew and adoptive grandson of Tiberiu...</td>\n",
       "      <td>18 March 37 AD – 24 January 41 AD\\n</td>\n",
       "      <td>3 years, 10 months and 6 days\\n</td>\n",
       "      <td>24 January 41 AD (aged 28) Assassinated in a ...</td>\n",
       "    </tr>\n",
       "    <tr>\n",
       "      <td>3</td>\n",
       "      <td>Claudius TIBERIVS  CLAVDIVS  CAESAR AVGVSTVS ...</td>\n",
       "      <td>1 August 10 BC,  Lugdunum ,  Gallia Lugdunens...</td>\n",
       "      <td>Uncle of Caligula; brother of Germanicus; nep...</td>\n",
       "      <td>25/26 January 41 AD – 13 October 54 AD\\n</td>\n",
       "      <td>13 years, 8 months and 18/19 days\\n</td>\n",
       "      <td>13 October 54 AD (aged 63) Probably poisoned ...</td>\n",
       "    </tr>\n",
       "    <tr>\n",
       "      <td>4</td>\n",
       "      <td>Nero NERO  CLAVDIVS CAESAR AVGVSTVS GERMANICV...</td>\n",
       "      <td>15 December 37 AD,  Antium ,  Italia \\n</td>\n",
       "      <td>Great-nephew, stepson, son-in-law and adopted...</td>\n",
       "      <td>13 October 54 AD – 9 June 68 AD\\n</td>\n",
       "      <td>13 years, 7 months and 27 days\\n</td>\n",
       "      <td>9 June 68 AD (aged 30) Committed suicide afte...</td>\n",
       "    </tr>\n",
       "  </tbody>\n",
       "</table>\n",
       "</div>"
      ],
      "text/plain": [
       "                                                Name  \\\n",
       "0   Augustus IMPERATOR CAESAR DIVI FILIVS  AVGVST...   \n",
       "1   Tiberius TIBERIVS  CAESAR DIVI AVGVSTI FILIVS...   \n",
       "2   Caligula GAIVS IVLIVS CAESAR AVGVSTVS GERMANI...   \n",
       "3   Claudius TIBERIVS  CLAVDIVS  CAESAR AVGVSTVS ...   \n",
       "4   Nero NERO  CLAVDIVS CAESAR AVGVSTVS GERMANICV...   \n",
       "\n",
       "                                               Birth  \\\n",
       "0             23 September 63 BC,  Rome ,  Italia \\n   \n",
       "1              16 November 42 BC,  Rome ,  Italia \\n   \n",
       "2              31 August 12 AD,  Antium ,  Italia \\n   \n",
       "3   1 August 10 BC,  Lugdunum ,  Gallia Lugdunens...   \n",
       "4            15 December 37 AD,  Antium ,  Italia \\n   \n",
       "\n",
       "                                          Succession  \\\n",
       "0   Great-nephew and adopted son of  Julius Caesa...   \n",
       "1   Natural son of  Livia Drusilla , Augustus' th...   \n",
       "2   Great-nephew and adoptive grandson of Tiberiu...   \n",
       "3   Uncle of Caligula; brother of Germanicus; nep...   \n",
       "4   Great-nephew, stepson, son-in-law and adopted...   \n",
       "\n",
       "                                       Reign  \\\n",
       "0       16 January 27 BC – 19 August 14 AD\\n   \n",
       "1      18 September 14 AD – 16 March 37 AD\\n   \n",
       "2        18 March 37 AD – 24 January 41 AD\\n   \n",
       "3   25/26 January 41 AD – 13 October 54 AD\\n   \n",
       "4          13 October 54 AD – 9 June 68 AD\\n   \n",
       "\n",
       "                                   Time  \\\n",
       "0       40 years, 7 months and 3 days\\n   \n",
       "1      22 years, 5 months and 27 days\\n   \n",
       "2       3 years, 10 months and 6 days\\n   \n",
       "3   13 years, 8 months and 18/19 days\\n   \n",
       "4      13 years, 7 months and 27 days\\n   \n",
       "\n",
       "                                              Deaths  \n",
       "0        19 August 14 AD (aged 75) Natural causes \\n  \n",
       "1   16 March 37 AD (aged 77) Probably natural cau...  \n",
       "2   24 January 41 AD (aged 28) Assassinated in a ...  \n",
       "3   13 October 54 AD (aged 63) Probably poisoned ...  \n",
       "4   9 June 68 AD (aged 30) Committed suicide afte...  "
      ]
     },
     "execution_count": 98,
     "metadata": {},
     "output_type": "execute_result"
    }
   ],
   "source": [
    "df.head()"
   ]
  },
  {
   "cell_type": "code",
   "execution_count": 99,
   "metadata": {},
   "outputs": [
    {
     "name": "stdout",
     "output_type": "stream",
     "text": [
      "Total number of emperors: 174\n",
      "Total number of raw features: 6\n",
      "Features available: ['Name', 'Birth', 'Succession', 'Reign', 'Time', 'Deaths']\n"
     ]
    }
   ],
   "source": [
    "print(f\"Total number of emperors: {df.shape[0]}\")\n",
    "print(f\"Total number of raw features: {df.shape[1]}\")\n",
    "print(f\"Features available: {list(df.columns)}\")"
   ]
  },
  {
   "cell_type": "markdown",
   "metadata": {},
   "source": [
    "We use regex to extract meaningful features from the raw data. It's a good alternative to manually iterating and extracting information from individual rows. Note that years before AD (year zero) are encoded as a negative integer. The process is not 100% robust yet, as the output still has a few outliers due to the messiness of the raw data"
   ]
  },
  {
   "cell_type": "code",
   "execution_count": 100,
   "metadata": {},
   "outputs": [],
   "source": [
    "# Make all columns lowercase except the names\n",
    "for col in df.columns:\n",
    "    if col != \"Name\":\n",
    "        df[col] = df[col].str.lower()\n",
    "    \n",
    "# Drop Succession column\n",
    "if 'Succession' in df:\n",
    "    df = df.drop(['Succession'], axis=1)\n",
    "\n",
    "# Extract age of death and replace missing values\n",
    "death_age = df['Deaths'].str.extract('\\((.*?)\\)').apply(lambda x: x.str.strip())\n",
    "df['AgeOfDeath'] = death_age[0].astype(str).map(lambda x: x.lstrip('aged ').strip())\n",
    "\n",
    "df['AgeOfDeath'].replace(to_replace =\"?\", value =\"0\", inplace=True) \n",
    "df['AgeOfDeath'].replace(to_replace =\"nan\", value =\"0\", inplace=True) \n",
    "\n",
    "# Extract Reign in years\n",
    "df['ReignYears'] = df['Time'].str.extract('(\\d+).(?=years|year)').fillna(0)\n",
    "\n",
    "# Extract Reign in months\n",
    "df['ReignMonths'] = df['Time'].str.extract('(\\d+).(?=months|month)').fillna(0)\n",
    "\n",
    "# Extract Reign in days\n",
    "df['ReignDays'] = df['Time'].str.extract('(\\d+).(?=days|day)').fillna(0)\n",
    "\n",
    "# Extract birth name\n",
    "df['BirthName'] = df['Name'].str.extract('(.[a-z]+)')\n",
    "\n",
    "# Extract title\n",
    "df['Title'] = df['Name'].str.extract('(.[A-Z]{2,})')\n",
    "\n",
    "# Extract cause of death\n",
    "df['CauseOfDeath'] = df['Deaths'].str.extract('\\).(.*)').fillna('Unknown')\n",
    "df['CauseOfDeath'] = df['CauseOfDeath'].apply(lambda x: x.replace('  ', ' ').strip())\n",
    "\n",
    "# Extract birth year (caring for AD/BC)\n",
    "df['BirthYearBC'] = df['Birth'].str.extract('(\\d+.(?=bc))').fillna(0).astype(str)\n",
    "df['BirthYearAD'] = df['Birth'].str.extract('(\\d+.(?=,|ad))').fillna(0).astype(str)\n",
    "df['BirthYearNum'] = df['Birth'].str.extract('(\\d+(?:\\.\\d+)?)').fillna(0).astype(str)\n",
    "df['BirthYearAD'] = df['BirthYearAD'].apply(lambda x: x.replace(',', '').replace('/', '')).astype(int)\n",
    "\n",
    "def add_year_prefix(row):\n",
    "    year_bc = int(row['BirthYearBC'])\n",
    "    if year_bc > 0:\n",
    "        return -year_bc\n",
    "    else:\n",
    "        return int(row['BirthYearAD'])\n",
    "    \n",
    "def add_num_year(row):\n",
    "    if row['BirthYear'] is 0:\n",
    "        return row['BirthYearNum']\n",
    "    else:\n",
    "        return row['BirthYear']\n",
    "    \n",
    "df['BirthYear'] = df.apply(add_year_prefix, axis=1)\n",
    "df['BirthYear'] = df.apply(add_num_year, axis=1)\n",
    "df = df.drop(['BirthYearNum', 'BirthYearBC', 'BirthYearAD'], axis=1)\n",
    "\n",
    "# Extract birth day\n",
    "df['BirthDay'] = df['Birth'].str.extract('(\\d+)').fillna(0)\n",
    "\n",
    "# Extract birth month\n",
    "df['BirthMonth'] = df['Birth'].str.split(',', 1).str[0].str.extract('([a-zA-Z]{5,})').fillna('Unknown')\n",
    "df['BirthMonth'] = df['BirthMonth'].str.capitalize()\n",
    "\n",
    "# Extract reign start and end year (manual handle the BC case)\n",
    "df['ReignStartYear'] = df['Reign'].str.split('–', 1).str[0].str.extract('(\\d+.(?=ad|bc)|\\d{4})')\n",
    "df['ReignEndYear'] = df['Reign'].str.split('–', 1).str[1].str.extract('(\\d+.(?=ad|bc)|\\d{4})')\n",
    "df.at[0, 'ReignStartYear'] = int('-' + df['ReignStartYear'].iloc[0].strip())\n",
    "\n",
    "# Extract reign day\n",
    "df['ReignStartDay'] = df['Reign'].str.split('–', 1).str[0].str.extract('(\\d+).(?=[a-zA-Z])')\n",
    "df['ReignEndDay'] = df['Reign'].str.split('–', 1).str[1].str.extract('(\\d+).(?=[a-zA-Z])')\n",
    "\n",
    "# Extract reign start month\n",
    "df['ReignStartMonth'] = df['Reign'].str.split('–', 1).str[0].str.extract('([a-zA-Z]+)')\n",
    "df['ReignStartMonth'] = df['ReignStartMonth'].str.capitalize()\n",
    "\n",
    "# Extract reign end month\n",
    "df['ReignEndMonth'] = df['Reign'].str.split('–', 1).str[1].str.extract('([a-zA-Z]+)')\n",
    "df['ReignEndMonth'] = df['ReignEndMonth'].str.capitalize()\n",
    "\n",
    "# Drop handled columns\n",
    "df = df.drop(['Name', 'Birth', 'Time', 'Deaths', 'Reign'], axis=1)"
   ]
  },
  {
   "cell_type": "code",
   "execution_count": 101,
   "metadata": {},
   "outputs": [
    {
     "data": {
      "text/html": [
       "<div>\n",
       "<style scoped>\n",
       "    .dataframe tbody tr th:only-of-type {\n",
       "        vertical-align: middle;\n",
       "    }\n",
       "\n",
       "    .dataframe tbody tr th {\n",
       "        vertical-align: top;\n",
       "    }\n",
       "\n",
       "    .dataframe thead th {\n",
       "        text-align: right;\n",
       "    }\n",
       "</style>\n",
       "<table border=\"1\" class=\"dataframe\">\n",
       "  <thead>\n",
       "    <tr style=\"text-align: right;\">\n",
       "      <th></th>\n",
       "      <th>AgeOfDeath</th>\n",
       "      <th>ReignYears</th>\n",
       "      <th>ReignMonths</th>\n",
       "      <th>ReignDays</th>\n",
       "      <th>BirthName</th>\n",
       "      <th>Title</th>\n",
       "      <th>CauseOfDeath</th>\n",
       "      <th>BirthYear</th>\n",
       "      <th>BirthDay</th>\n",
       "      <th>BirthMonth</th>\n",
       "      <th>ReignStartYear</th>\n",
       "      <th>ReignEndYear</th>\n",
       "      <th>ReignStartDay</th>\n",
       "      <th>ReignEndDay</th>\n",
       "      <th>ReignStartMonth</th>\n",
       "      <th>ReignEndMonth</th>\n",
       "    </tr>\n",
       "  </thead>\n",
       "  <tbody>\n",
       "    <tr>\n",
       "      <td>0</td>\n",
       "      <td>75</td>\n",
       "      <td>40</td>\n",
       "      <td>7</td>\n",
       "      <td>3</td>\n",
       "      <td>Augustus</td>\n",
       "      <td>IMPERATOR</td>\n",
       "      <td>natural causes</td>\n",
       "      <td>-63</td>\n",
       "      <td>23</td>\n",
       "      <td>September</td>\n",
       "      <td>-27</td>\n",
       "      <td>14</td>\n",
       "      <td>16</td>\n",
       "      <td>19</td>\n",
       "      <td>January</td>\n",
       "      <td>August</td>\n",
       "    </tr>\n",
       "    <tr>\n",
       "      <td>1</td>\n",
       "      <td>77</td>\n",
       "      <td>22</td>\n",
       "      <td>5</td>\n",
       "      <td>27</td>\n",
       "      <td>Tiberius</td>\n",
       "      <td>TIBERIVS</td>\n",
       "      <td>probably natural causes, possibly assassinated...</td>\n",
       "      <td>-42</td>\n",
       "      <td>16</td>\n",
       "      <td>November</td>\n",
       "      <td>14</td>\n",
       "      <td>37</td>\n",
       "      <td>18</td>\n",
       "      <td>16</td>\n",
       "      <td>September</td>\n",
       "      <td>March</td>\n",
       "    </tr>\n",
       "    <tr>\n",
       "      <td>2</td>\n",
       "      <td>28</td>\n",
       "      <td>3</td>\n",
       "      <td>10</td>\n",
       "      <td>6</td>\n",
       "      <td>Caligula</td>\n",
       "      <td>GAIVS</td>\n",
       "      <td>assassinated in a conspiracy involving senator...</td>\n",
       "      <td>12</td>\n",
       "      <td>31</td>\n",
       "      <td>August</td>\n",
       "      <td>37</td>\n",
       "      <td>41</td>\n",
       "      <td>18</td>\n",
       "      <td>24</td>\n",
       "      <td>March</td>\n",
       "      <td>January</td>\n",
       "    </tr>\n",
       "    <tr>\n",
       "      <td>3</td>\n",
       "      <td>63</td>\n",
       "      <td>13</td>\n",
       "      <td>8</td>\n",
       "      <td>19</td>\n",
       "      <td>Claudius</td>\n",
       "      <td>TIBERIVS</td>\n",
       "      <td>probably poisoned by his wife agrippina the yo...</td>\n",
       "      <td>-10</td>\n",
       "      <td>1</td>\n",
       "      <td>August</td>\n",
       "      <td>41</td>\n",
       "      <td>54</td>\n",
       "      <td>26</td>\n",
       "      <td>13</td>\n",
       "      <td>January</td>\n",
       "      <td>October</td>\n",
       "    </tr>\n",
       "    <tr>\n",
       "      <td>4</td>\n",
       "      <td>30</td>\n",
       "      <td>13</td>\n",
       "      <td>7</td>\n",
       "      <td>27</td>\n",
       "      <td>Nero</td>\n",
       "      <td>NERO</td>\n",
       "      <td>committed suicide after being declared a publi...</td>\n",
       "      <td>37</td>\n",
       "      <td>15</td>\n",
       "      <td>December</td>\n",
       "      <td>54</td>\n",
       "      <td>68</td>\n",
       "      <td>13</td>\n",
       "      <td>9</td>\n",
       "      <td>October</td>\n",
       "      <td>June</td>\n",
       "    </tr>\n",
       "  </tbody>\n",
       "</table>\n",
       "</div>"
      ],
      "text/plain": [
       "  AgeOfDeath ReignYears ReignMonths ReignDays BirthName       Title  \\\n",
       "0         75         40           7         3  Augustus   IMPERATOR   \n",
       "1         77         22           5        27  Tiberius    TIBERIVS   \n",
       "2         28          3          10         6  Caligula       GAIVS   \n",
       "3         63         13           8        19  Claudius    TIBERIVS   \n",
       "4         30         13           7        27      Nero        NERO   \n",
       "\n",
       "                                        CauseOfDeath BirthYear BirthDay  \\\n",
       "0                                     natural causes       -63       23   \n",
       "1  probably natural causes, possibly assassinated...       -42       16   \n",
       "2  assassinated in a conspiracy involving senator...        12       31   \n",
       "3  probably poisoned by his wife agrippina the yo...       -10        1   \n",
       "4  committed suicide after being declared a publi...        37       15   \n",
       "\n",
       "  BirthMonth ReignStartYear ReignEndYear ReignStartDay ReignEndDay  \\\n",
       "0  September            -27          14             16          19   \n",
       "1   November            14           37             18          16   \n",
       "2     August            37           41             18          24   \n",
       "3     August            41           54             26          13   \n",
       "4   December            54           68             13           9   \n",
       "\n",
       "  ReignStartMonth ReignEndMonth  \n",
       "0         January        August  \n",
       "1       September         March  \n",
       "2           March       January  \n",
       "3         January       October  \n",
       "4         October          June  "
      ]
     },
     "execution_count": 101,
     "metadata": {},
     "output_type": "execute_result"
    }
   ],
   "source": [
    "df.head()"
   ]
  },
  {
   "cell_type": "code",
   "execution_count": 102,
   "metadata": {},
   "outputs": [
    {
     "name": "stdout",
     "output_type": "stream",
     "text": [
      "<class 'pandas.core.frame.DataFrame'>\n",
      "RangeIndex: 174 entries, 0 to 173\n",
      "Data columns (total 16 columns):\n",
      "AgeOfDeath         174 non-null object\n",
      "ReignYears         174 non-null object\n",
      "ReignMonths        174 non-null object\n",
      "ReignDays          174 non-null object\n",
      "BirthName          174 non-null object\n",
      "Title              149 non-null object\n",
      "CauseOfDeath       174 non-null object\n",
      "BirthYear          174 non-null object\n",
      "BirthDay           174 non-null object\n",
      "BirthMonth         174 non-null object\n",
      "ReignStartYear     51 non-null object\n",
      "ReignEndYear       52 non-null object\n",
      "ReignStartDay      93 non-null object\n",
      "ReignEndDay        98 non-null object\n",
      "ReignStartMonth    164 non-null object\n",
      "ReignEndMonth      163 non-null object\n",
      "dtypes: object(16)\n",
      "memory usage: 21.9+ KB\n"
     ]
    }
   ],
   "source": [
    "df.info()"
   ]
  },
  {
   "cell_type": "code",
   "execution_count": 103,
   "metadata": {},
   "outputs": [
    {
     "name": "stdout",
     "output_type": "stream",
     "text": [
      "Augustus died of natural causes\n",
      "Caligula died of assassinated in a conspiracy involving senators and praetorian guards\n",
      "Nero died of committed suicide after being declared a public enemy by the senate\n",
      "Otho died of committed suicide after losing battle of bedriacum to vitellius\n",
      "Vespasian died of natural causes\n"
     ]
    }
   ],
   "source": [
    "# Print a few causes of death\n",
    "\n",
    "for i in range(0,10,2):\n",
    "    print(f'{df.BirthName.loc[i]} died of {df.CauseOfDeath.loc[i]}')"
   ]
  },
  {
   "cell_type": "markdown",
   "metadata": {},
   "source": [
    "# Analyzing cause of death\n",
    "Lastly we look at the most occurring cause of death amongst Roman emperors. It seems that, despite popular believe, that many in fact died from natural causes, but Constantinople is mentioned quite a lot as well. Also suicide wasn't that uncommon amongst emperors either."
   ]
  },
  {
   "cell_type": "code",
   "execution_count": 104,
   "metadata": {},
   "outputs": [
    {
     "name": "stderr",
     "output_type": "stream",
     "text": [
      "C:\\Users\\Asus\\Anaconda3\\lib\\site-packages\\spacy\\util.py:275: UserWarning: [W031] Model 'en_core_web_sm' (2.2.0) requires spaCy v2.2 and is incompatible with the current spaCy version (2.3.5). This may lead to unexpected results or runtime errors. To resolve this, download a newer compatible model or retrain your custom model with the current spaCy version. For more details and available updates, run: python -m spacy validate\n",
      "  warnings.warn(warn_msg)\n"
     ]
    },
    {
     "name": "stdout",
     "output_type": "stream",
     "text": [
      "20 most common words: \n",
      "[('natural', 35), ('causes', 35), ('Unknown', 30), ('constantinople', 27), ('assassinated', 16), ('murdered', 16), ('battle', 13), ('possibly', 10), ('praetorian', 9), ('executed', 9), ('suicide', 8), ('killed', 8), ('died', 8), ('probably', 7), ('guard', 7), ('deposed', 7), ('favour', 6), ('committed', 6), ('orders', 6), ('constantine', 6)]\n",
      "\n",
      "Unique words in death notes: \n",
      "['caligula', 'prefect', 'naevius', 'sutorius', 'macro', 'senators', 'guards', 'wife', 'agrippina', 'younger', 'son', 'nero', 'declared', 'public', 'enemy', 'coup', 'led', 'otho', 'losing', 'bedriacum', 'vitellius', 'vespasian', 'fever', 'court', 'officials', 'soldier', 'macrinus', 'caracalla', 'elagabalus', 'men', 'siege', 'hearing', 'gordian', 'carthage', 'pro', 'maximinus', 'verona', 'decius', 'abrittus', 'aemilian', 'valerian', 'edessa', 'persians', 'commanders', 'murder', 'probus', 'carus', 'lightning', 'aspalatos', 'twice', 'tried', 'regain', 'throne', 'forced', 'commit', 'milvian', 'bridge', '324', 'year', 'licinius', 'constans', 'usurper', 'magnentius', 'private', 'citizen', 'abdication', 'mortally', 'wounded', 'suffocated', 'fumes', 'adrianople', 'rebellious', 'faction', 'save', 'victor', 'arbogast', 'constantius', 'valentinian', 'petronius', 'maximus', 'stoned', 'roman', 'mob', 'magister', 'militum', 'placentia', 'point', 'beheaded', 'gundobad', 'nephew', 'julius', 'nepos', 'salona', 'time', 'manner', 'orestes', 'ruled', 'balance', 'western', 'assassination', 'maintained', 'figurehead', 'odoacer', 'injuries', 'suffered', 'hunting', 'accident', 'gout', 'cause', 'epilepsy', 'zeno', 'insanity', 'days', 'supporters', 'phocas', 'edema', 'carbuncle', 'blinding', 'irene', 'successor', 'conspirators', 'prote', 'island', 'date', 'konstantios', 'dyrrhachium', '18', 'october', '1081', 'recalled', 'general', 'i.', 'raised', 'co', 'emperor', '1095', 'blinded', 'cilicia', 'nicaea', 'nymphaion', 'magnesia', 'pachomion', 'near', 'lysimachia', 'monk', 'peloponnese', 'matthew', '1357', 'served', 'governor', 'morea', 'day', 'father', 'selymbria']\n",
      "\n"
     ]
    }
   ],
   "source": [
    "# Look at the most occuring causes\n",
    "\n",
    "import spacy\n",
    "import en_core_web_sm\n",
    "from collections import Counter\n",
    "\n",
    "nlp = en_core_web_sm.load()\n",
    "\n",
    "complete_text = df.CauseOfDeath.str.strip().str.cat(sep=' ')\n",
    "complete_doc = nlp(complete_text)\n",
    "\n",
    "words = [token.text for token in complete_doc\n",
    "         if not token.is_stop and not token.is_punct]\n",
    "word_freq = Counter(words)\n",
    "\n",
    "# Print 20 most common words\n",
    "common_words = word_freq.most_common(20)\n",
    "print (f'20 most common words: \\n{common_words}\\n')\n",
    "\n",
    "# Print all unique words\n",
    "unique_words = [word for (word, freq) in word_freq.items() if freq == 1]\n",
    "print (f'Unique words in death notes: \\n{unique_words}\\n')"
   ]
  },
  {
   "cell_type": "markdown",
   "metadata": {},
   "source": [
    "# Definition of Survival"
   ]
  },
  {
   "cell_type": "markdown",
   "metadata": {},
   "source": [
    "event=1 -> Assasiation, captivity, execution\n"
   ]
  },
  {
   "cell_type": "markdown",
   "metadata": {},
   "source": [
    "event=0 -> in battle, Suicide (more natural ways)"
   ]
  },
  {
   "cell_type": "code",
   "execution_count": 105,
   "metadata": {},
   "outputs": [
    {
     "data": {
      "text/plain": [
       "0                                         natural causes\n",
       "1      probably natural causes, possibly assassinated...\n",
       "2      assassinated in a conspiracy involving senator...\n",
       "3      probably poisoned by his wife agrippina the yo...\n",
       "4      committed suicide after being declared a publi...\n",
       "                             ...                        \n",
       "169                                         thessaloniki\n",
       "170                                       constantinople\n",
       "171                                       constantinople\n",
       "172                                       constantinople\n",
       "173                                       constantinople\n",
       "Name: CauseOfDeath, Length: 174, dtype: object"
      ]
     },
     "execution_count": 105,
     "metadata": {},
     "output_type": "execute_result"
    }
   ],
   "source": [
    "df.CauseOfDeath"
   ]
  },
  {
   "cell_type": "code",
   "execution_count": 106,
   "metadata": {},
   "outputs": [],
   "source": [
    "df['CauseofDeath_Coded'] = pd.np.where(df.CauseOfDeath.str.contains(\"executed\"),1,\n",
    "                   pd.np.where(df.CauseOfDeath.str.contains(\"assassinated\"), 1,\n",
    "                   pd.np.where(df.CauseOfDeath.str.contains(\"captivity\"), 1,0)))"
   ]
  },
  {
   "cell_type": "code",
   "execution_count": 107,
   "metadata": {},
   "outputs": [
    {
     "data": {
      "text/html": [
       "<div>\n",
       "<style scoped>\n",
       "    .dataframe tbody tr th:only-of-type {\n",
       "        vertical-align: middle;\n",
       "    }\n",
       "\n",
       "    .dataframe tbody tr th {\n",
       "        vertical-align: top;\n",
       "    }\n",
       "\n",
       "    .dataframe thead th {\n",
       "        text-align: right;\n",
       "    }\n",
       "</style>\n",
       "<table border=\"1\" class=\"dataframe\">\n",
       "  <thead>\n",
       "    <tr style=\"text-align: right;\">\n",
       "      <th></th>\n",
       "      <th>CauseOfDeath</th>\n",
       "      <th>CauseofDeath_Coded</th>\n",
       "    </tr>\n",
       "  </thead>\n",
       "  <tbody>\n",
       "    <tr>\n",
       "      <td>0</td>\n",
       "      <td>natural causes</td>\n",
       "      <td>0</td>\n",
       "    </tr>\n",
       "    <tr>\n",
       "      <td>1</td>\n",
       "      <td>probably natural causes, possibly assassinated...</td>\n",
       "      <td>1</td>\n",
       "    </tr>\n",
       "    <tr>\n",
       "      <td>2</td>\n",
       "      <td>assassinated in a conspiracy involving senator...</td>\n",
       "      <td>1</td>\n",
       "    </tr>\n",
       "    <tr>\n",
       "      <td>3</td>\n",
       "      <td>probably poisoned by his wife agrippina the yo...</td>\n",
       "      <td>0</td>\n",
       "    </tr>\n",
       "    <tr>\n",
       "      <td>4</td>\n",
       "      <td>committed suicide after being declared a publi...</td>\n",
       "      <td>0</td>\n",
       "    </tr>\n",
       "    <tr>\n",
       "      <td>...</td>\n",
       "      <td>...</td>\n",
       "      <td>...</td>\n",
       "    </tr>\n",
       "    <tr>\n",
       "      <td>169</td>\n",
       "      <td>thessaloniki</td>\n",
       "      <td>0</td>\n",
       "    </tr>\n",
       "    <tr>\n",
       "      <td>170</td>\n",
       "      <td>constantinople</td>\n",
       "      <td>0</td>\n",
       "    </tr>\n",
       "    <tr>\n",
       "      <td>171</td>\n",
       "      <td>constantinople</td>\n",
       "      <td>0</td>\n",
       "    </tr>\n",
       "    <tr>\n",
       "      <td>172</td>\n",
       "      <td>constantinople</td>\n",
       "      <td>0</td>\n",
       "    </tr>\n",
       "    <tr>\n",
       "      <td>173</td>\n",
       "      <td>constantinople</td>\n",
       "      <td>0</td>\n",
       "    </tr>\n",
       "  </tbody>\n",
       "</table>\n",
       "<p>174 rows × 2 columns</p>\n",
       "</div>"
      ],
      "text/plain": [
       "                                          CauseOfDeath  CauseofDeath_Coded\n",
       "0                                       natural causes                   0\n",
       "1    probably natural causes, possibly assassinated...                   1\n",
       "2    assassinated in a conspiracy involving senator...                   1\n",
       "3    probably poisoned by his wife agrippina the yo...                   0\n",
       "4    committed suicide after being declared a publi...                   0\n",
       "..                                                 ...                 ...\n",
       "169                                       thessaloniki                   0\n",
       "170                                     constantinople                   0\n",
       "171                                     constantinople                   0\n",
       "172                                     constantinople                   0\n",
       "173                                     constantinople                   0\n",
       "\n",
       "[174 rows x 2 columns]"
      ]
     },
     "execution_count": 107,
     "metadata": {},
     "output_type": "execute_result"
    }
   ],
   "source": [
    "df[['CauseOfDeath','CauseofDeath_Coded']]"
   ]
  },
  {
   "cell_type": "code",
   "execution_count": 108,
   "metadata": {},
   "outputs": [
    {
     "data": {
      "text/plain": [
       "AgeOfDeath              0\n",
       "ReignYears              0\n",
       "ReignMonths             0\n",
       "ReignDays               0\n",
       "BirthName               0\n",
       "Title                  25\n",
       "CauseOfDeath            0\n",
       "BirthYear               0\n",
       "BirthDay                0\n",
       "BirthMonth              0\n",
       "ReignStartYear        123\n",
       "ReignEndYear          122\n",
       "ReignStartDay          81\n",
       "ReignEndDay            76\n",
       "ReignStartMonth        10\n",
       "ReignEndMonth          11\n",
       "CauseofDeath_Coded      0\n",
       "dtype: int64"
      ]
     },
     "execution_count": 108,
     "metadata": {},
     "output_type": "execute_result"
    }
   ],
   "source": [
    "df.isnull().sum()"
   ]
  },
  {
   "cell_type": "code",
   "execution_count": 109,
   "metadata": {},
   "outputs": [],
   "source": [
    "df.drop([\"Title\",\"ReignStartYear\",\"ReignEndYear\",\"ReignStartDay\",\"ReignEndDay\",\"ReignStartMonth\",\"ReignEndMonth\"],axis=1,inplace=True)"
   ]
  },
  {
   "cell_type": "code",
   "execution_count": 111,
   "metadata": {},
   "outputs": [],
   "source": [
    "df.drop([\"CauseOfDeath\"],axis=1,inplace=True)"
   ]
  },
  {
   "cell_type": "code",
   "execution_count": 119,
   "metadata": {},
   "outputs": [],
   "source": [
    "data.dropna(inplace=True)"
   ]
  },
  {
   "cell_type": "code",
   "execution_count": 131,
   "metadata": {},
   "outputs": [
    {
     "name": "stdout",
     "output_type": "stream",
     "text": [
      "<class 'pandas.core.frame.DataFrame'>\n",
      "RangeIndex: 174 entries, 0 to 173\n",
      "Data columns (total 9 columns):\n",
      "AgeOfDeath            174 non-null object\n",
      "ReignYears            174 non-null object\n",
      "ReignMonths           174 non-null object\n",
      "ReignDays             174 non-null object\n",
      "BirthName             174 non-null object\n",
      "BirthYear             174 non-null object\n",
      "BirthDay              174 non-null object\n",
      "BirthMonth            174 non-null object\n",
      "CauseofDeath_Coded    174 non-null int32\n",
      "dtypes: int32(1), object(8)\n",
      "memory usage: 11.7+ KB\n"
     ]
    }
   ],
   "source": [
    "df.info()"
   ]
  },
  {
   "cell_type": "code",
   "execution_count": 136,
   "metadata": {},
   "outputs": [
    {
     "data": {
      "text/html": [
       "<div>\n",
       "<style scoped>\n",
       "    .dataframe tbody tr th:only-of-type {\n",
       "        vertical-align: middle;\n",
       "    }\n",
       "\n",
       "    .dataframe tbody tr th {\n",
       "        vertical-align: top;\n",
       "    }\n",
       "\n",
       "    .dataframe thead th {\n",
       "        text-align: right;\n",
       "    }\n",
       "</style>\n",
       "<table border=\"1\" class=\"dataframe\">\n",
       "  <thead>\n",
       "    <tr style=\"text-align: right;\">\n",
       "      <th></th>\n",
       "      <th>AgeOfDeath</th>\n",
       "      <th>ReignYears</th>\n",
       "      <th>ReignMonths</th>\n",
       "      <th>ReignDays</th>\n",
       "      <th>BirthName</th>\n",
       "      <th>BirthYear</th>\n",
       "      <th>BirthDay</th>\n",
       "      <th>BirthMonth</th>\n",
       "      <th>CauseofDeath_Coded</th>\n",
       "    </tr>\n",
       "  </thead>\n",
       "  <tbody>\n",
       "    <tr>\n",
       "      <td>0</td>\n",
       "      <td>75</td>\n",
       "      <td>40</td>\n",
       "      <td>7</td>\n",
       "      <td>3</td>\n",
       "      <td>Augustus</td>\n",
       "      <td>-63</td>\n",
       "      <td>23</td>\n",
       "      <td>September</td>\n",
       "      <td>0</td>\n",
       "    </tr>\n",
       "    <tr>\n",
       "      <td>1</td>\n",
       "      <td>77</td>\n",
       "      <td>22</td>\n",
       "      <td>5</td>\n",
       "      <td>27</td>\n",
       "      <td>Tiberius</td>\n",
       "      <td>-42</td>\n",
       "      <td>16</td>\n",
       "      <td>November</td>\n",
       "      <td>1</td>\n",
       "    </tr>\n",
       "    <tr>\n",
       "      <td>2</td>\n",
       "      <td>28</td>\n",
       "      <td>3</td>\n",
       "      <td>10</td>\n",
       "      <td>6</td>\n",
       "      <td>Caligula</td>\n",
       "      <td>12</td>\n",
       "      <td>31</td>\n",
       "      <td>August</td>\n",
       "      <td>1</td>\n",
       "    </tr>\n",
       "    <tr>\n",
       "      <td>3</td>\n",
       "      <td>63</td>\n",
       "      <td>13</td>\n",
       "      <td>8</td>\n",
       "      <td>19</td>\n",
       "      <td>Claudius</td>\n",
       "      <td>-10</td>\n",
       "      <td>1</td>\n",
       "      <td>August</td>\n",
       "      <td>0</td>\n",
       "    </tr>\n",
       "    <tr>\n",
       "      <td>4</td>\n",
       "      <td>30</td>\n",
       "      <td>13</td>\n",
       "      <td>7</td>\n",
       "      <td>27</td>\n",
       "      <td>Nero</td>\n",
       "      <td>37</td>\n",
       "      <td>15</td>\n",
       "      <td>December</td>\n",
       "      <td>0</td>\n",
       "    </tr>\n",
       "    <tr>\n",
       "      <td>...</td>\n",
       "      <td>...</td>\n",
       "      <td>...</td>\n",
       "      <td>...</td>\n",
       "      <td>...</td>\n",
       "      <td>...</td>\n",
       "      <td>...</td>\n",
       "      <td>...</td>\n",
       "      <td>...</td>\n",
       "      <td>...</td>\n",
       "    </tr>\n",
       "    <tr>\n",
       "      <td>169</td>\n",
       "      <td>38</td>\n",
       "      <td>0</td>\n",
       "      <td>5</td>\n",
       "      <td>0</td>\n",
       "      <td>John</td>\n",
       "      <td>1370</td>\n",
       "      <td>1370</td>\n",
       "      <td>Unknown</td>\n",
       "      <td>0</td>\n",
       "    </tr>\n",
       "    <tr>\n",
       "      <td>170</td>\n",
       "      <td>58</td>\n",
       "      <td>0</td>\n",
       "      <td>5</td>\n",
       "      <td>0</td>\n",
       "      <td>John</td>\n",
       "      <td>1332</td>\n",
       "      <td>18</td>\n",
       "      <td>Unknown</td>\n",
       "      <td>0</td>\n",
       "    </tr>\n",
       "    <tr>\n",
       "      <td>171</td>\n",
       "      <td>75</td>\n",
       "      <td>34</td>\n",
       "      <td>0</td>\n",
       "      <td>0</td>\n",
       "      <td>Manuel</td>\n",
       "      <td>1350</td>\n",
       "      <td>27</td>\n",
       "      <td>Unknown</td>\n",
       "      <td>0</td>\n",
       "    </tr>\n",
       "    <tr>\n",
       "      <td>172</td>\n",
       "      <td>55</td>\n",
       "      <td>23</td>\n",
       "      <td>0</td>\n",
       "      <td>0</td>\n",
       "      <td>John</td>\n",
       "      <td>18</td>\n",
       "      <td>18</td>\n",
       "      <td>December</td>\n",
       "      <td>0</td>\n",
       "    </tr>\n",
       "    <tr>\n",
       "      <td>173</td>\n",
       "      <td>48</td>\n",
       "      <td>4</td>\n",
       "      <td>4</td>\n",
       "      <td>23</td>\n",
       "      <td>Constantine</td>\n",
       "      <td>1405</td>\n",
       "      <td>8</td>\n",
       "      <td>February</td>\n",
       "      <td>0</td>\n",
       "    </tr>\n",
       "  </tbody>\n",
       "</table>\n",
       "<p>174 rows × 9 columns</p>\n",
       "</div>"
      ],
      "text/plain": [
       "    AgeOfDeath ReignYears ReignMonths ReignDays    BirthName BirthYear  \\\n",
       "0           75         40           7         3     Augustus       -63   \n",
       "1           77         22           5        27     Tiberius       -42   \n",
       "2           28          3          10         6     Caligula        12   \n",
       "3           63         13           8        19     Claudius       -10   \n",
       "4           30         13           7        27         Nero        37   \n",
       "..         ...        ...         ...       ...          ...       ...   \n",
       "169         38          0           5         0         John      1370   \n",
       "170         58          0           5         0         John      1332   \n",
       "171         75         34           0         0       Manuel      1350   \n",
       "172         55         23           0         0         John        18   \n",
       "173         48          4           4        23  Constantine      1405   \n",
       "\n",
       "    BirthDay BirthMonth  CauseofDeath_Coded  \n",
       "0         23  September                   0  \n",
       "1         16   November                   1  \n",
       "2         31     August                   1  \n",
       "3          1     August                   0  \n",
       "4         15   December                   0  \n",
       "..       ...        ...                 ...  \n",
       "169     1370    Unknown                   0  \n",
       "170       18    Unknown                   0  \n",
       "171       27    Unknown                   0  \n",
       "172       18   December                   0  \n",
       "173        8   February                   0  \n",
       "\n",
       "[174 rows x 9 columns]"
      ]
     },
     "execution_count": 136,
     "metadata": {},
     "output_type": "execute_result"
    }
   ],
   "source": [
    "df"
   ]
  },
  {
   "cell_type": "code",
   "execution_count": 121,
   "metadata": {},
   "outputs": [
    {
     "data": {
      "text/plain": [
       "0    85.0\n",
       "1    15.0\n",
       "Name: CauseofDeath_Coded, dtype: float64"
      ]
     },
     "execution_count": 121,
     "metadata": {},
     "output_type": "execute_result"
    }
   ],
   "source": [
    "#how many 0s and 1s in original data\n",
    "np.round(df['CauseofDeath_Coded'].value_counts()/len(data)*100,0)"
   ]
  },
  {
   "cell_type": "code",
   "execution_count": 143,
   "metadata": {},
   "outputs": [],
   "source": [
    "## Create a list of Categorical Columns\n",
    "cat_cols= [i  for i in df.columns if df[i].dtype==object]"
   ]
  },
  {
   "cell_type": "code",
   "execution_count": 144,
   "metadata": {},
   "outputs": [
    {
     "name": "stdout",
     "output_type": "stream",
     "text": [
      "Column Name:  AgeOfDeath\n",
      "0        24\n",
      "58        7\n",
      "50        5\n",
      "42        5\n",
      "65        4\n",
      "         ..\n",
      "76        1\n",
      "77-78     1\n",
      "~55       1\n",
      "~30       1\n",
      "87        1\n",
      "Name: AgeOfDeath, Length: 88, dtype: int64\n",
      "-----------------------------\n",
      "Column Name:  ReignYears\n",
      "0     32\n",
      "1     15\n",
      "2     14\n",
      "3     14\n",
      "13    10\n",
      "5      7\n",
      "7      7\n",
      "6      6\n",
      "17     5\n",
      "4      5\n",
      "8      4\n",
      "9      4\n",
      "19     4\n",
      "16     3\n",
      "11     3\n",
      "15     3\n",
      "22     3\n",
      "30     3\n",
      "24     3\n",
      "20     3\n",
      "25     3\n",
      "37     2\n",
      "34     2\n",
      "23     2\n",
      "10     2\n",
      "14     2\n",
      "27     2\n",
      "38     2\n",
      "48     1\n",
      "28     1\n",
      "46     1\n",
      "21     1\n",
      "40     1\n",
      "49     1\n",
      "45     1\n",
      "26     1\n",
      "33     1\n",
      "Name: ReignYears, dtype: int64\n",
      "-----------------------------\n",
      "Column Name:  ReignMonths\n",
      "0     103\n",
      "5      11\n",
      "3       8\n",
      "6       8\n",
      "4       7\n",
      "9       7\n",
      "2       7\n",
      "10      7\n",
      "7       6\n",
      "8       5\n",
      "1       3\n",
      "11      2\n",
      "Name: ReignMonths, dtype: int64\n",
      "-----------------------------\n",
      "Column Name:  ReignDays\n",
      "0     124\n",
      "7       4\n",
      "3       4\n",
      "27      4\n",
      "21      4\n",
      "4       3\n",
      "28      3\n",
      "22      3\n",
      "29      2\n",
      "24      2\n",
      "10      2\n",
      "12      2\n",
      "20      2\n",
      "5       1\n",
      "15      1\n",
      "6       1\n",
      "2       1\n",
      "25      1\n",
      "30      1\n",
      "19      1\n",
      "1       1\n",
      "8       1\n",
      "16      1\n",
      "9       1\n",
      "26      1\n",
      "23      1\n",
      "11      1\n",
      "14      1\n",
      "Name: ReignDays, dtype: int64\n",
      "-----------------------------\n",
      "Column Name:  BirthName\n",
      "Constantine    12\n",
      "John           10\n",
      "Michael         9\n",
      "Leo             6\n",
      "Alexios         5\n",
      "               ..\n",
      "Philip          1\n",
      "Elagabalus      1\n",
      "Eugenius        1\n",
      "Glycerius       1\n",
      "Hadrian         1\n",
      "Name: BirthName, Length: 108, dtype: int64\n",
      "-----------------------------\n",
      "Column Name:  BirthYear\n",
      "0       23\n",
      "1332     3\n",
      "669      2\n",
      "420      2\n",
      "775      2\n",
      "        ..\n",
      "1118     1\n",
      "1174     1\n",
      "188      1\n",
      "189      1\n",
      "938      1\n",
      "Name: BirthYear, Length: 141, dtype: int64\n",
      "-----------------------------\n",
      "Column Name:  BirthDay\n",
      "0       23\n",
      "18       6\n",
      "11       4\n",
      "24       4\n",
      "19       3\n",
      "        ..\n",
      "575      1\n",
      "535      1\n",
      "1000     1\n",
      "1005     1\n",
      "4        1\n",
      "Name: BirthDay, Length: 111, dtype: int64\n",
      "-----------------------------\n",
      "Column Name:  BirthMonth\n",
      "Unknown      114\n",
      "September     11\n",
      "November       8\n",
      "April          8\n",
      "December       7\n",
      "August         5\n",
      "January        5\n",
      "March          4\n",
      "February       2\n",
      "Pamphylia      1\n",
      "October        1\n",
      "Tauresium      1\n",
      "Isauria        1\n",
      "After          1\n",
      "Pergamon       1\n",
      "Africa         1\n",
      "Sirmium        1\n",
      "Bederiana      1\n",
      "Arabissus      1\n",
      "Name: BirthMonth, dtype: int64\n",
      "-----------------------------\n"
     ]
    }
   ],
   "source": [
    "## lets have a look at the categories and their distribution in all the categorical columns.\n",
    "\n",
    "for i in cat_cols:\n",
    "    print('Column Name: ',i)\n",
    "    print(df[i].value_counts())\n",
    "    print('-----------------------------')"
   ]
  },
  {
   "cell_type": "code",
   "execution_count": null,
   "metadata": {},
   "outputs": [],
   "source": []
  },
  {
   "cell_type": "code",
   "execution_count": 137,
   "metadata": {},
   "outputs": [],
   "source": [
    "X=df['ReignYears']\n",
    "Y=df[\"CauseofDeath_Coded\"]"
   ]
  },
  {
   "cell_type": "markdown",
   "metadata": {},
   "source": [
    "# Kaplan-Meier"
   ]
  },
  {
   "cell_type": "code",
   "execution_count": 123,
   "metadata": {},
   "outputs": [],
   "source": [
    "from lifelines import KaplanMeierFitter"
   ]
  },
  {
   "cell_type": "code",
   "execution_count": 124,
   "metadata": {},
   "outputs": [],
   "source": [
    "## create an kmf object\n",
    "kmf = KaplanMeierFitter()"
   ]
  },
  {
   "cell_type": "code",
   "execution_count": 141,
   "metadata": {},
   "outputs": [
    {
     "data": {
      "text/plain": [
       "<lifelines.KaplanMeierFitter:\"Kaplan Meier Estimate\", fitted with 174 total observations, 148 right-censored observations>"
      ]
     },
     "execution_count": 141,
     "metadata": {},
     "output_type": "execute_result"
    }
   ],
   "source": [
    "## Fit the data into the model\n",
    "kmf.fit(X, Y,label='Kaplan Meier Estimate')"
   ]
  },
  {
   "cell_type": "code",
   "execution_count": 142,
   "metadata": {},
   "outputs": [
    {
     "data": {
      "text/plain": [
       "<matplotlib.axes._subplots.AxesSubplot at 0x25294299c48>"
      ]
     },
     "execution_count": 142,
     "metadata": {},
     "output_type": "execute_result"
    },
    {
     "data": {
      "image/png": "[encoded data removed]",
      "text/plain": [
       "<Figure size 864x432 with 1 Axes>"
      ]
     },
     "metadata": {},
     "output_type": "display_data"
    }
   ],
   "source": [
    "kmf.plot(ci_show=False) ## ci_show is meant for Confidence interval"
   ]
  },
  {
   "cell_type": "code",
   "execution_count": 146,
   "metadata": {},
   "outputs": [],
   "source": [
    "df['AgeOfDeath']=pd.to_numeric(df['AgeOfDeath'],errors='coerce')"
   ]
  },
  {
   "cell_type": "code",
   "execution_count": 154,
   "metadata": {},
   "outputs": [
    {
     "data": {
      "image/png": "[encoded data removed]",
      "text/plain": [
       "<Figure size 864x432 with 1 Axes>"
      ]
     },
     "metadata": {},
     "output_type": "display_data"
    }
   ],
   "source": [
    "kmf = KaplanMeierFitter() \n",
    "\n",
    "\n",
    "X=df['ReignYears']    # time to event\n",
    "Y=df[\"CauseofDeath_Coded\"]     # event occurred or not\n",
    "\n",
    "\n",
    "groups = df['AgeOfDeath']    ## Create the cohorts from the 'AgeOfDeath' column\n",
    "ix1 = (groups <= 30)   ## Cohort 1\n",
    "ix2 = (groups > 30)   ## Cohort 2\n",
    "\n",
    "\n",
    "\n",
    "kmf.fit(X[ix1], Y[ix1], label='Less than 30')    ## fit the cohort 1 data\n",
    "ax = kmf.plot()\n",
    "\n",
    "\n",
    "kmf.fit(X[ix2], Y[ix2], label='More than 30')         ## fit the cohort 2 data\n",
    "ax1 = kmf.plot(ax=ax)\n"
   ]
  },
  {
   "cell_type": "code",
   "execution_count": 155,
   "metadata": {},
   "outputs": [],
   "source": [
    "df['BirthYear']=pd.to_numeric(df['BirthYear'],errors='coerce')"
   ]
  },
  {
   "cell_type": "code",
   "execution_count": 156,
   "metadata": {},
   "outputs": [
    {
     "data": {
      "image/png": "[encoded data removed]",
      "text/plain": [
       "<Figure size 864x432 with 1 Axes>"
      ]
     },
     "metadata": {},
     "output_type": "display_data"
    }
   ],
   "source": [
    "kmf = KaplanMeierFitter() \n",
    "\n",
    "\n",
    "X=df['ReignYears']    # time to event\n",
    "Y=df[\"CauseofDeath_Coded\"]     # event occurred or not\n",
    "\n",
    "\n",
    "groups = df['BirthYear']    ## Create the cohorts from the 'BirthYear' column\n",
    "ix1 = (groups <= 0)   ## Cohort 1\n",
    "ix2 = (groups > 0)   ## Cohort 2\n",
    "\n",
    "\n",
    "\n",
    "kmf.fit(X[ix1], Y[ix1], label='years before AD (year zero)')    ## fit the cohort 1 data\n",
    "ax = kmf.plot()\n",
    "\n",
    "\n",
    "kmf.fit(X[ix2], Y[ix2], label='years after AD')         ## fit the cohort 2 data\n",
    "ax1 = kmf.plot(ax=ax)\n"
   ]
  },
  {
   "cell_type": "code",
   "execution_count": null,
   "metadata": {},
   "outputs": [],
   "source": []
  }
 ],
 "metadata": {
  "kernelspec": {
   "display_name": "Python 3",
   "language": "python",
   "name": "python3"
  },
  "language_info": {
   "codemirror_mode": {
    "name": "ipython",
    "version": 3
   },
   "file_extension": ".py",
   "mimetype": "text/x-python",
   "name": "python",
   "nbconvert_exporter": "python",
   "pygments_lexer": "ipython3",
   "version": "3.7.4"
  }
 },
 "nbformat": 4,
 "nbformat_minor": 2
}
